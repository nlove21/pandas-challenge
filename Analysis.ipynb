{
 "cells": [
  {
   "cell_type": "markdown",
   "metadata": {},
   "source": [
    "Analysis\n",
    "\n",
    "\n",
    "1. Based on the analysis of screen names, there is significant number of male players over those who are femal or other/non-disclosed. This trend is seen in both data sets and is expected in online games. \n",
    "\n",
    "2. The most common age group to play this game is 20-24, with 15-19 as the second most common grouping. This also matched the trend we expect to see, with online games appealing to a younger audience.\n",
    "\n",
    "3. The average price of items was shown to be 2.85 which is relatively low for an online game. However, enough of these purchases add up to total revenue of $230.\n"
   ]
  }
 ],
 "metadata": {
  "kernelspec": {
   "display_name": "Python [conda env:PythonData]",
   "language": "python",
   "name": "conda-env-PythonData-py"
  },
  "language_info": {
   "codemirror_mode": {
    "name": "ipython",
    "version": 3
   },
   "file_extension": ".py",
   "mimetype": "text/x-python",
   "name": "python",
   "nbconvert_exporter": "python",
   "pygments_lexer": "ipython3",
   "version": "3.6.3"
  }
 },
 "nbformat": 4,
 "nbformat_minor": 2
}
